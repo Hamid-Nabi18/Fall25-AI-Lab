{
 "cells": [
  {
   "cell_type": "code",
   "execution_count": null,
   "id": "91150526",
   "metadata": {},
   "outputs": [
    {
     "name": "stdout",
     "output_type": "stream",
     "text": [
      "0 Living Room\n",
      "1 Bedroom\n",
      "2 Kitchen\n"
     ]
    },
    {
     "ename": "AttributeError",
     "evalue": "'Simplereflexagent' object has no attribute 'fixed_temp'",
     "output_type": "error",
     "traceback": [
      "\u001b[1;31m---------------------------------------------------------------------------\u001b[0m",
      "\u001b[1;31mAttributeError\u001b[0m                            Traceback (most recent call last)",
      "Cell \u001b[1;32mIn[5], line 32\u001b[0m\n\u001b[0;32m     30\u001b[0m agent \u001b[38;5;241m=\u001b[39m Simplereflexagent()\n\u001b[0;32m     31\u001b[0m agent\u001b[38;5;241m.\u001b[39msensor(\u001b[38;5;241m24\u001b[39m)\n\u001b[1;32m---> 32\u001b[0m agent\u001b[38;5;241m.\u001b[39mactuator()\n\u001b[0;32m     34\u001b[0m \u001b[38;5;28mprint\u001b[39m(agent)\n",
      "Cell \u001b[1;32mIn[5], line 17\u001b[0m, in \u001b[0;36mSimplereflexagent.actuator\u001b[1;34m(self)\u001b[0m\n\u001b[0;32m     16\u001b[0m \u001b[38;5;28;01mdef\u001b[39;00m \u001b[38;5;21mactuator\u001b[39m(\u001b[38;5;28mself\u001b[39m):\n\u001b[1;32m---> 17\u001b[0m     action \u001b[38;5;241m=\u001b[39m \u001b[38;5;28mself\u001b[39m\u001b[38;5;241m.\u001b[39mperformance()\n\u001b[0;32m     18\u001b[0m     \u001b[38;5;28mprint\u001b[39m(\u001b[38;5;28mself\u001b[39m\u001b[38;5;241m.\u001b[39mcurrent_temp,\u001b[38;5;124m\"\u001b[39m\u001b[38;5;124m=> Action:\u001b[39m\u001b[38;5;124m\"\u001b[39m, action)\n",
      "Cell \u001b[1;32mIn[5], line 10\u001b[0m, in \u001b[0;36mSimplereflexagent.performance\u001b[1;34m(self)\u001b[0m\n\u001b[0;32m      8\u001b[0m \u001b[38;5;28;01mdef\u001b[39;00m \u001b[38;5;21mperformance\u001b[39m(\u001b[38;5;28mself\u001b[39m):\n\u001b[0;32m      9\u001b[0m     action \u001b[38;5;241m=\u001b[39m \u001b[38;5;28;01mNone\u001b[39;00m\n\u001b[1;32m---> 10\u001b[0m     \u001b[38;5;28;01mif\u001b[39;00m \u001b[38;5;28mself\u001b[39m\u001b[38;5;241m.\u001b[39mcurrent_temp \u001b[38;5;241m>\u001b[39m \u001b[38;5;28mself\u001b[39m\u001b[38;5;241m.\u001b[39mfixed_temp:\n\u001b[0;32m     11\u001b[0m         action \u001b[38;5;241m=\u001b[39m \u001b[38;5;124m\"\u001b[39m\u001b[38;5;124mTurn on AC\u001b[39m\u001b[38;5;124m\"\u001b[39m\n\u001b[0;32m     12\u001b[0m     \u001b[38;5;28;01melif\u001b[39;00m \u001b[38;5;28mself\u001b[39m\u001b[38;5;241m.\u001b[39mcurrent_temp \u001b[38;5;241m<\u001b[39m \u001b[38;5;28mself\u001b[39m\u001b[38;5;241m.\u001b[39mfixed_temp:\n",
      "\u001b[1;31mAttributeError\u001b[0m: 'Simplereflexagent' object has no attribute 'fixed_temp'"
     ]
    }
   ],
   "source": [
    "class Simplereflexagent:\n",
    "    def __call__(self, temp):\n",
    "        self.fixed_temp = temp\n",
    "\n",
    "    def sensor(self, temp):\n",
    "        self.current_temp = temp\n",
    "    \n",
    "    def performance(self):\n",
    "        action = None\n",
    "        if self.current_temp > self.fixed_temp:\n",
    "            action = \"Turn on AC\"\n",
    "        elif self.current_temp < self.fixed_temp:\n",
    "            action = \"Turn on Heater\"\n",
    "        return action\n",
    "        \n",
    "    def actuator(self):\n",
    "        action = self.performance()\n",
    "        print(self.current_temp,\"=> Action:\", action)\n",
    "\n",
    "rooms = {    \n",
    "    \"Living Room\": 22,\n",
    "    \"Bedroom\": 20,\n",
    "    \"Kitchen\": 24  \n",
    "}\n",
    "\n",
    "for i, j in enumerate(rooms):\n",
    "    print(i, j)\n",
    "\n",
    "\n",
    "agent = Simplereflexagent()\n",
    "agent.sensor(temp)\n",
    "agent.actuator()\n",
    "\n",
    "print(agent)"
   ]
  },
  {
   "cell_type": "code",
   "execution_count": null,
   "id": "311a744c",
   "metadata": {},
   "outputs": [],
   "source": []
  }
 ],
 "metadata": {
  "kernelspec": {
   "display_name": "base",
   "language": "python",
   "name": "python3"
  },
  "language_info": {
   "codemirror_mode": {
    "name": "ipython",
    "version": 3
   },
   "file_extension": ".py",
   "mimetype": "text/x-python",
   "name": "python",
   "nbconvert_exporter": "python",
   "pygments_lexer": "ipython3",
   "version": "3.12.4"
  }
 },
 "nbformat": 4,
 "nbformat_minor": 5
}
