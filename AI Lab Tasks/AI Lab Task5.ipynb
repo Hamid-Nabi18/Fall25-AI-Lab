{
 "cells": [
  {
   "cell_type": "code",
   "execution_count": 11,
   "id": "7e25e742",
   "metadata": {},
   "outputs": [
    {
     "name": "stdout",
     "output_type": "stream",
     "text": [
      "['A', 'B', 'D', 'E', 'C', 'F']\n"
     ]
    }
   ],
   "source": [
    "tree = {\n",
    "    'A': ['B', 'C'],\n",
    "    'B': ['D', 'E'],\n",
    "    'C': ['F'],\n",
    "    'D': [],\n",
    "    'E': [],\n",
    "    'F': ['G'],\n",
    "    'G': []\n",
    "}\n",
    "def dfs(start, goal):\n",
    "    visited = []\n",
    "    stack = [start]\n",
    "\n",
    "    while stack:\n",
    "        if stack[-1] not in visited:\n",
    "            visited.append(stack[-1])\n",
    "            if stack[-1] == goal:\n",
    "                break\n",
    "            stack.extend(reversed(tree[stack[-1]]))\n",
    "        else:\n",
    "            stack.pop()  \n",
    "\n",
    "    return visited\n",
    "\n",
    "print(dfs('A', 'F'))\n"
   ]
  },
  {
   "cell_type": "code",
   "execution_count": 12,
   "id": "43213e1d",
   "metadata": {},
   "outputs": [
    {
     "name": "stdout",
     "output_type": "stream",
     "text": [
      "['A', 'B', 'D']\n"
     ]
    }
   ],
   "source": [
    "tree = {\n",
    "    'A': ['B', 'C'],\n",
    "    'B': ['D', 'E'],\n",
    "    'C': ['F'],\n",
    "    'D': [],\n",
    "    'E': [],\n",
    "    'F': ['G'],\n",
    "    'G': []\n",
    "}\n",
    "\n",
    "visited = []\n",
    "\n",
    "def dfs_limited(start, goal, limit):\n",
    "    if limit < 0:\n",
    "        return\n",
    "    visited.append(start)\n",
    "    if start == goal:\n",
    "        return\n",
    "    # only visit the first child at each level\n",
    "    if tree[start]:\n",
    "        dfs_limited(tree[start][0], goal, limit-1)\n",
    "\n",
    "dfs_limited('A', 'F', 10)  # large limit to reach F\n",
    "print(visited)"
   ]
  },
  {
   "cell_type": "code",
   "execution_count": 13,
   "id": "725c6c1d",
   "metadata": {},
   "outputs": [
    {
     "name": "stdout",
     "output_type": "stream",
     "text": [
      "['A', 'B', 'D', 'E', 'C', 'F']\n"
     ]
    }
   ],
   "source": [
    "tree = {\n",
    "    'A': ['B', 'C'],\n",
    "    'B': ['D', 'E'],\n",
    "    'C': ['F'],\n",
    "    'D': [],\n",
    "    'E': [],\n",
    "    'F': ['G'],\n",
    "    'G': []\n",
    "}\n",
    "\n",
    "visited = []\n",
    "\n",
    "def dfs_limited(start, goal, limit):\n",
    "    if limit < 0:\n",
    "        return False  # no more depth allowed\n",
    "    visited.append(start)\n",
    "    if start == goal:\n",
    "        return True   # goal found\n",
    "    for child in tree[start]:       # visit all children in order\n",
    "        if dfs_limited(child, goal, limit-1):\n",
    "            return True\n",
    "    return False\n",
    "\n",
    "dfs_limited('A', 'F', 10)  # large enough limit\n",
    "print(visited)\n"
   ]
  },
  {
   "cell_type": "code",
   "execution_count": null,
   "id": "077b163d",
   "metadata": {},
   "outputs": [],
   "source": []
  }
 ],
 "metadata": {
  "kernelspec": {
   "display_name": "base",
   "language": "python",
   "name": "python3"
  },
  "language_info": {
   "codemirror_mode": {
    "name": "ipython",
    "version": 3
   },
   "file_extension": ".py",
   "mimetype": "text/x-python",
   "name": "python",
   "nbconvert_exporter": "python",
   "pygments_lexer": "ipython3",
   "version": "3.12.4"
  }
 },
 "nbformat": 4,
 "nbformat_minor": 5
}
